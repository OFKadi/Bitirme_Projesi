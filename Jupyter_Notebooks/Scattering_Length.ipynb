{
  "nbformat": 4,
  "nbformat_minor": 0,
  "metadata": {
    "colab": {
      "name": "PhasePowerExp.ipynb",
      "provenance": [],
      "authorship_tag": "ABX9TyPGA6/6HQIutb3BAf2VGKAp",
      "include_colab_link": true
    },
    "kernelspec": {
      "name": "python3",
      "display_name": "Python 3"
    },
    "language_info": {
      "name": "python"
    }
  },
  "cells": [
    {
      "cell_type": "markdown",
      "metadata": {
        "id": "view-in-github",
        "colab_type": "text"
      },
      "source": [
        "<a href=\"https://colab.research.google.com/github/OFKadi/Bitirme_Projesi/blob/main/Jupyter_Notebooks/Scattering_Length.ipynb\" target=\"_parent\"><img src=\"https://colab.research.google.com/assets/colab-badge.svg\" alt=\"Open In Colab\"/></a>"
      ]
    },
    {
      "cell_type": "code",
      "metadata": {
        "id": "8DKkHvgxueq-"
      },
      "source": [
        "from sympy import *\n",
        "from sympy import init_session\n",
        "from pprint import pprint"
      ],
      "execution_count": 1,
      "outputs": []
    },
    {
      "cell_type": "code",
      "metadata": {
        "id": "PkEEnRIGyzlD"
      },
      "source": [
        "init_session(quiet=True) "
      ],
      "execution_count": null,
      "outputs": []
    },
    {
      "cell_type": "code",
      "metadata": {
        "id": "kgmGS7Dmus_h"
      },
      "source": [
        "a = symbols(\"a\")\n",
        "k = symbols(\"k\")\n",
        "u = symbols(\"u\")"
      ],
      "execution_count": 41,
      "outputs": []
    },
    {
      "cell_type": "code",
      "metadata": {
        "id": "O8nSAf9vwQxQ"
      },
      "source": [
        "k_p = sqrt(k**2 + u**2)\n",
        "\n",
        "phase = k*(k_p*cos(k_p*a)*cos(k*a)+k*sin(k_p*a)*sin(k*a))/(k*sin(k_p*a)*cos(k*a)-k_p*sin(k*a)*cos(k_p*a))"
      ],
      "execution_count": 4,
      "outputs": []
    },
    {
      "cell_type": "code",
      "metadata": {
        "id": "5Mg_cFHIzg3d"
      },
      "source": [
        "res = phase.series(n=None, x=k)"
      ],
      "execution_count": 30,
      "outputs": []
    },
    {
      "cell_type": "code",
      "metadata": {
        "id": "3PqZ3XNf5GKM"
      },
      "source": [
        "att = [next(res) for i in range(2)]"
      ],
      "execution_count": 31,
      "outputs": []
    },
    {
      "cell_type": "markdown",
      "metadata": {
        "id": "64Wzj_c3EslJ"
      },
      "source": [
        "\\begin{align}\n",
        "        k = \\sqrt{2 μ E}\n",
        "\\end{align}\n",
        "\\begin{align}\n",
        "        u = \\sqrt{2 μ V_0}\n",
        "\\end{align}\n",
        "$a:$ kuyunun genişliği "
      ]
    },
    {
      "cell_type": "markdown",
      "metadata": {
        "id": "eAQQyegg8QIA"
      },
      "source": [
        "Scattering Length of Weel\n"
      ]
    },
    {
      "cell_type": "code",
      "metadata": {
        "id": "hTqPKXQd3E8L"
      },
      "source": [
        "a0 = simplify(-1/att[0])"
      ],
      "execution_count": 51,
      "outputs": []
    },
    {
      "cell_type": "code",
      "metadata": {
        "colab": {
          "base_uri": "https://localhost:8080/",
          "height": 70
        },
        "id": "5_YN-1tJDUmv",
        "outputId": "fa980b95-0c3f-4e72-964a-8a80115ddd62"
      },
      "source": [
        "a0"
      ],
      "execution_count": 52,
      "outputs": [
        {
          "output_type": "execute_result",
          "data": {
            "image/png": "[encoded data removed]",
            "text/latex": "$\\displaystyle a - \\frac{\\tan{\\left(a \\sqrt{u^{2}} \\right)}}{\\sqrt{u^{2}}}$",
            "text/plain": [
              "       ⎛     ____⎞\n",
              "       ⎜    ╱  2 ⎟\n",
              "    tan⎝a⋅╲╱  u  ⎠\n",
              "a - ──────────────\n",
              "          ____    \n",
              "         ╱  2     \n",
              "       ╲╱  u      "
            ]
          },
          "metadata": {},
          "execution_count": 52
        }
      ]
    },
    {
      "cell_type": "code",
      "metadata": {
        "colab": {
          "base_uri": "https://localhost:8080/"
        },
        "id": "H0IuKb0fE1FB",
        "outputId": "57d66715-cdcf-4739-c4a3-46ee11219486"
      },
      "source": [
        "print(latex(a0))"
      ],
      "execution_count": 60,
      "outputs": [
        {
          "output_type": "stream",
          "name": "stdout",
          "text": [
            "a - \\frac{\\tan{\\left(a \\sqrt{u^{2}} \\right)}}{\\sqrt{u^{2}}}\n"
          ]
        }
      ]
    },
    {
      "cell_type": "markdown",
      "metadata": {
        "id": "4tylw12SFGgw"
      },
      "source": [
        "\\begin{align}\n",
        "a_0 = a - \\frac{\\tan{\\left(a u \\right)}}{u}\n",
        "\\end{align}"
      ]
    },
    {
      "cell_type": "markdown",
      "metadata": {
        "id": "8GiVI3dKFX5G"
      },
      "source": [
        "Effective Range of Weel\n"
      ]
    },
    {
      "cell_type": "code",
      "metadata": {
        "id": "MqzjAhjN6Hlk"
      },
      "source": [
        "r0 = simplify(att[1]*2/k**2)"
      ],
      "execution_count": 55,
      "outputs": []
    },
    {
      "cell_type": "code",
      "metadata": {
        "colab": {
          "base_uri": "https://localhost:8080/",
          "height": 83
        },
        "id": "rpPRYctDzuad",
        "outputId": "7f2ded2c-57b8-4d1a-b8e1-94bba2a4aa07"
      },
      "source": [
        "r0"
      ],
      "execution_count": 56,
      "outputs": [
        {
          "output_type": "execute_result",
          "data": {
            "image/png": "[encoded data removed]",
            "text/latex": "$\\displaystyle \\frac{a u^{2} \\left(a \\sqrt{u^{2}} \\cos{\\left(a \\sqrt{u^{2}} \\right)} - \\sin{\\left(a \\sqrt{u^{2}} \\right)}\\right) - \\sqrt{u^{2}} \\cos{\\left(a \\sqrt{u^{2}} \\right)}}{u^{2} \\left(a \\sqrt{u^{2}} \\cos{\\left(a \\sqrt{u^{2}} \\right)} - \\sin{\\left(a \\sqrt{u^{2}} \\right)}\\right)}$",
            "text/plain": [
              "     ⎛     ____    ⎛     ____⎞      ⎛     ____⎞⎞      ____    ⎛     ____⎞\n",
              "   2 ⎜    ╱  2     ⎜    ╱  2 ⎟      ⎜    ╱  2 ⎟⎟     ╱  2     ⎜    ╱  2 ⎟\n",
              "a⋅u ⋅⎝a⋅╲╱  u  ⋅cos⎝a⋅╲╱  u  ⎠ - sin⎝a⋅╲╱  u  ⎠⎠ - ╲╱  u  ⋅cos⎝a⋅╲╱  u  ⎠\n",
              "─────────────────────────────────────────────────────────────────────────\n",
              "                 ⎛     ____    ⎛     ____⎞      ⎛     ____⎞⎞             \n",
              "               2 ⎜    ╱  2     ⎜    ╱  2 ⎟      ⎜    ╱  2 ⎟⎟             \n",
              "              u ⋅⎝a⋅╲╱  u  ⋅cos⎝a⋅╲╱  u  ⎠ - sin⎝a⋅╲╱  u  ⎠⎠             "
            ]
          },
          "metadata": {},
          "execution_count": 56
        }
      ]
    },
    {
      "cell_type": "code",
      "metadata": {
        "colab": {
          "base_uri": "https://localhost:8080/"
        },
        "id": "SRFc33k3DZ5l",
        "outputId": "0a3053c8-f08f-4b36-ad6f-86c3aa6f6a1a"
      },
      "source": [
        "print(latex(r0))"
      ],
      "execution_count": 58,
      "outputs": [
        {
          "output_type": "stream",
          "name": "stdout",
          "text": [
            "\\frac{a u^{2} \\left(a \\sqrt{u^{2}} \\cos{\\left(a \\sqrt{u^{2}} \\right)} - \\sin{\\left(a \\sqrt{u^{2}} \\right)}\\right) - \\sqrt{u^{2}} \\cos{\\left(a \\sqrt{u^{2}} \\right)}}{u^{2} \\left(a \\sqrt{u^{2}} \\cos{\\left(a \\sqrt{u^{2}} \\right)} - \\sin{\\left(a \\sqrt{u^{2}} \\right)}\\right)}\n"
          ]
        }
      ]
    },
    {
      "cell_type": "markdown",
      "metadata": {
        "id": "hoUYaJrqDh6d"
      },
      "source": [
        "\\begin{align}\n",
        "r_0 = a - \\frac{ \\cos{\\left(a u \\right)}}{u \\left(a u \\cos{\\left(a u \\right)} - \\sin{\\left(a u \\right)}\\right)}\n",
        "\\end{align}"
      ]
    }
  ]
}