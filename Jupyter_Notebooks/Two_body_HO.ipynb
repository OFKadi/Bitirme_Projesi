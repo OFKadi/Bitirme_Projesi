{
  "nbformat": 4,
  "nbformat_minor": 0,
  "metadata": {
    "colab": {
      "name": "Two_body_HO.ipynb",
      "provenance": [],
      "authorship_tag": "ABX9TyPxN1PqkxsuWRDzSRrMYsZ2",
      "include_colab_link": true
    },
    "kernelspec": {
      "name": "python3",
      "display_name": "Python 3"
    },
    "language_info": {
      "name": "python"
    }
  },
  "cells": [
    {
      "cell_type": "markdown",
      "metadata": {
        "id": "view-in-github",
        "colab_type": "text"
      },
      "source": [
        "<a href=\"https://colab.research.google.com/github/OFKadi/Bitirme_Projesi/blob/main/Jupyter_Notebooks/Two_body_HO.ipynb\" target=\"_parent\"><img src=\"https://colab.research.google.com/assets/colab-badge.svg\" alt=\"Open In Colab\"/></a>"
      ]
    },
    {
      "cell_type": "code",
      "execution_count": null,
      "metadata": {
        "id": "o6uRx_3ZUp3p"
      },
      "outputs": [],
      "source": [
        "import numpy as np\n",
        "import scipy.special as ss\n",
        "import matplotlib.pyplot as plt\n",
        "import math\n",
        "\n",
        "from scipy import optimize\n",
        "from scipy.integrate import quad, quadrature"
      ]
    },
    {
      "cell_type": "code",
      "source": [
        "def φn(r2, n):\n",
        "    return 2*np.exp(-r2/2)*ss.assoc_laguerre(r2,n,1/2) / ( np.pi**.25*np.sqrt(ss.assoc_laguerre(0,n,1/2)) )"
      ],
      "metadata": {
        "id": "WaDCkl5WUqe0"
      },
      "execution_count": null,
      "outputs": []
    },
    {
      "cell_type": "code",
      "source": [
        "def φn2(r2, n):\n",
        "    return np.exp(-r2/2)*ss.assoc_laguerre(r2,n,1/2) / ( np.pi**(3/4)*np.sqrt(ss.assoc_laguerre(0,n,1/2))**(1/2) )"
      ],
      "metadata": {
        "id": "N09hqod_11vx"
      },
      "execution_count": null,
      "outputs": []
    },
    {
      "cell_type": "code",
      "source": [
        "def φn_orth(r2, n, m):\n",
        "  return φn2(r2, n)*φn2(r2, m)*r2"
      ],
      "metadata": {
        "id": "_k4Jz01kzM53"
      },
      "execution_count": null,
      "outputs": []
    },
    {
      "cell_type": "code",
      "source": [
        "quad(φn_orth, 0, np.inf, args=(1, 1), limit=200)"
      ],
      "metadata": {
        "colab": {
          "base_uri": "https://localhost:8080/"
        },
        "id": "9glctvVBzJmH",
        "outputId": "df8fbf9b-0328-440d-e609-ed3d703534bf"
      },
      "execution_count": null,
      "outputs": [
        {
          "output_type": "execute_result",
          "data": {
            "text/plain": [
              "(0.3299226101861592, 4.0531916238786444e-10)"
            ]
          },
          "metadata": {},
          "execution_count": 91
        }
      ]
    },
    {
      "cell_type": "code",
      "source": [
        "quad(φn_orth, 0, np.inf, args=(1, 0), limit=200)"
      ],
      "metadata": {
        "colab": {
          "base_uri": "https://localhost:8080/"
        },
        "id": "bggXEbpgzg9Q",
        "outputId": "baad3ad2-ca6c-4d16-c4cd-a5448730ef4c"
      },
      "execution_count": null,
      "outputs": [
        {
          "output_type": "execute_result",
          "data": {
            "text/plain": [
              "(-0.0811376416874166, 9.451579485764375e-09)"
            ]
          },
          "metadata": {},
          "execution_count": 92
        }
      ]
    },
    {
      "cell_type": "code",
      "source": [
        "def Vint(r,R,k0):\n",
        "    return -k0**2*np.heaviside(R-r,0.5)"
      ],
      "metadata": {
        "id": "sh58ffDPVLKC"
      },
      "execution_count": null,
      "outputs": []
    },
    {
      "cell_type": "code",
      "source": [
        "nmax = 80\n",
        "Nr = 1000\n",
        "\n",
        "k0=100\n",
        "R=.05\n",
        "\n",
        "rmax = 1.1*R\n",
        "rr, dr = np.linspace(0,rmax,Nr,endpoint=True, retstep=True)\n",
        "r2 = rr**2"
      ],
      "metadata": {
        "id": "sZwvxJp3VwfC"
      },
      "execution_count": null,
      "outputs": []
    },
    {
      "cell_type": "code",
      "source": [
        "def int_func(r, n, m, R, k0):\n",
        "  return φn(r**2, n)*φn(r**2, m)*Vint(r, R, k0)*r**2"
      ],
      "metadata": {
        "id": "dhYmJKCgVMkY"
      },
      "execution_count": null,
      "outputs": []
    },
    {
      "cell_type": "code",
      "source": [
        "def get_Hrel(nmax,R,k0):\n",
        "\n",
        "    Hrel = np.zeros([nmax,nmax])\n",
        "\n",
        "    for n in range(nmax):\n",
        "        Hrel[n,n] = 2*n+1.5 + quadrature(int_func, 0, R, args=(n, n, R, k0))[0]\n",
        "\n",
        "    for n in range(nmax):\n",
        "        for m in range(n+1,nmax):\n",
        "            Hrel[n,m] = quadrature(int_func, 0, R, args=(n, m, R, k0))[0]\n",
        "            Hrel[m,n] = Hrel[n,m]\n",
        "    return Hrel"
      ],
      "metadata": {
        "id": "jO8lnSxAjQc-"
      },
      "execution_count": null,
      "outputs": []
    },
    {
      "cell_type": "code",
      "source": [
        "def get_Hrel2(nmax,R,k0):\n",
        "\n",
        "    Hrel = np.zeros([nmax,nmax])\n",
        "\n",
        "    for n in range(nmax):\n",
        "        Hrel[n,n] = 2*n+1.5 + quad(int_func, 0, np.inf, args=(n, n, R, k0), limit=200)[0]\n",
        "\n",
        "    for n in range(nmax):\n",
        "        for m in range(n+1,nmax):\n",
        "            Hrel[n,m] = quad(int_func, 0, np.inf, args=(n, m, R, k0), limit=200)[0]\n",
        "            Hrel[m,n] = Hrel[n,m]\n",
        "    return Hrel"
      ],
      "metadata": {
        "id": "3ibtvWiTXU78"
      },
      "execution_count": null,
      "outputs": []
    },
    {
      "cell_type": "code",
      "source": [
        "%%time\n",
        "Hrel2 = get_Hrel2(nmax,R,k0)\n",
        "plt.imshow(Hrel2)"
      ],
      "metadata": {
        "colab": {
          "base_uri": "https://localhost:8080/",
          "height": 302
        },
        "id": "Dvclp6_WlkMi",
        "outputId": "29419e88-4fe2-4e78-9f22-35a80163d872"
      },
      "execution_count": null,
      "outputs": [
        {
          "output_type": "stream",
          "name": "stdout",
          "text": [
            "CPU times: user 51.7 s, sys: 46.6 ms, total: 51.8 s\n",
            "Wall time: 51.8 s\n"
          ]
        },
        {
          "output_type": "display_data",
          "data": {
            "image/png": "[encoded data removed]",
            "text/plain": [
              "<Figure size 432x288 with 1 Axes>"
            ]
          },
          "metadata": {
            "needs_background": "light"
          }
        }
      ]
    },
    {
      "cell_type": "code",
      "source": [
        "%%time\n",
        "Hrel = get_Hrel(nmax,R,k0)\n",
        "plt.imshow(Hrel)"
      ],
      "metadata": {
        "colab": {
          "base_uri": "https://localhost:8080/",
          "height": 302
        },
        "id": "PZWjDyPjae0p",
        "outputId": "39a125b0-86f8-442c-997f-8a9589f9be47"
      },
      "execution_count": null,
      "outputs": [
        {
          "output_type": "stream",
          "name": "stdout",
          "text": [
            "CPU times: user 1.17 s, sys: 2.96 ms, total: 1.18 s\n",
            "Wall time: 1.18 s\n"
          ]
        },
        {
          "output_type": "display_data",
          "data": {
            "image/png": "[encoded data removed]",
            "text/plain": [
              "<Figure size 432x288 with 1 Axes>"
            ]
          },
          "metadata": {
            "needs_background": "light"
          }
        }
      ]
    },
    {
      "cell_type": "code",
      "source": [
        "err = np.abs(np.floor(np.log10(Hrel-Hrel2)))\n",
        "plt.imshow(err)\n",
        "print(\"Maksimum virgülden sonra doğruluk: \", np.max(err))\n",
        "print(\"Minimum virgülden sonra doğruluk: \", np.min(err))"
      ],
      "metadata": {
        "colab": {
          "base_uri": "https://localhost:8080/",
          "height": 302
        },
        "id": "TJd1uFAom5Dc",
        "outputId": "2dc3c379-6feb-4266-a5c5-e0dd4f8bd36e"
      },
      "execution_count": null,
      "outputs": [
        {
          "output_type": "stream",
          "name": "stdout",
          "text": [
            "Maksimum virgülden sonra doğruluk:  11.0\n",
            "Minimum virgülden sonra doğruluk:  10.0\n"
          ]
        },
        {
          "output_type": "display_data",
          "data": {
            "image/png": "[encoded data removed]",
            "text/plain": [
              "<Figure size 432x288 with 1 Axes>"
            ]
          },
          "metadata": {
            "needs_background": "light"
          }
        }
      ]
    },
    {
      "cell_type": "code",
      "source": [
        "def get_a0(R,k0):\n",
        "    #k0R=np.sqrt(V0)*R\n",
        "    k0R=k0*R\n",
        "    return R*(1-np.tan(k0R)/k0R)"
      ],
      "metadata": {
        "id": "7JpNXYJnbUo9"
      },
      "execution_count": null,
      "outputs": []
    },
    {
      "cell_type": "code",
      "source": [
        "k0 = optimize.fsolve(lambda k0: get_a0(R,k0)-1, np.pi/(2*R/1.1))[0]"
      ],
      "metadata": {
        "id": "SrnMhomebVUN"
      },
      "execution_count": null,
      "outputs": []
    },
    {
      "cell_type": "code",
      "source": [
        "k0star=np.pi/(2*R)\n",
        "Na0 = 400\n",
        "k0list = np.linspace(k0star*1.002,k0star*2,Na0)\n",
        "k0list = np.array ([*k0list, *np.linspace(k0star/4,k0star*.998,Na0)])\n",
        "a0list = get_a0(R,k0list)\n",
        "\n",
        "plt.plot(k0list,a0list,'.')\n",
        "plt.plot(k0list,0*a0list)"
      ],
      "metadata": {
        "colab": {
          "base_uri": "https://localhost:8080/",
          "height": 282
        },
        "id": "EctEeKGHbXsP",
        "outputId": "9c8b6fcd-bac8-4680-bbcd-67ec7e32ff48"
      },
      "execution_count": null,
      "outputs": [
        {
          "output_type": "execute_result",
          "data": {
            "text/plain": [
              "[<matplotlib.lines.Line2D at 0x7f35d0a49b50>]"
            ]
          },
          "metadata": {},
          "execution_count": 57
        },
        {
          "output_type": "display_data",
          "data": {
            "image/png": "[encoded data removed]",
            "text/plain": [
              "<Figure size 432x288 with 1 Axes>"
            ]
          },
          "metadata": {
            "needs_background": "light"
          }
        }
      ]
    },
    {
      "cell_type": "code",
      "source": [
        "%%time\n",
        "res = []\n",
        "for k0 in k0list:\n",
        "    Hrel = get_Hrel(nmax,R,k0)\n",
        "    ee, uu = np.linalg.eigh(Hrel)\n",
        "    res.append(ee)\n",
        "    \n",
        "all_eigs = np.array(res)"
      ],
      "metadata": {
        "colab": {
          "base_uri": "https://localhost:8080/"
        },
        "id": "E4M01NkdbZyu",
        "outputId": "207c8cc4-50ee-499f-d450-88eaa2dc7f13"
      },
      "execution_count": null,
      "outputs": [
        {
          "output_type": "stream",
          "name": "stdout",
          "text": [
            "CPU times: user 15min 43s, sys: 1min 26s, total: 17min 9s\n",
            "Wall time: 15min 36s\n"
          ]
        }
      ]
    },
    {
      "cell_type": "code",
      "source": [
        "plt.figure(figsize=(6,6))\n",
        "isplit = len(a0list)//2\n",
        "for i in range(5):\n",
        "    plt.plot(a0list[:isplit],all_eigs[:isplit,i],'b.-');\n",
        "    plt.plot(a0list[isplit:],all_eigs[isplit:,i],'b.-');\n",
        "    \n",
        "#plt.plot(a0list,scatter.r_0_W(k0list*R)*R,'r--', label=r\"$r_0$\");\n",
        "\n",
        "plt.xlim([-4,4])\n",
        "plt.ylim([-5,10])\n",
        "plt.xlabel(r\"$a_s/\\sqrt{\\hbar/\\mu\\omega}$\")\n",
        "plt.ylabel(r\"$E_n/\\hbar\\omega$\")\n",
        "plt.title(\"zero range\")\n",
        "plt.axvline(0,ls=':');\n",
        "#plt.legend(loc=4);"
      ],
      "metadata": {
        "colab": {
          "base_uri": "https://localhost:8080/",
          "height": 413
        },
        "id": "UkAZtI-zkWk3",
        "outputId": "b7fcaf0f-46f5-4083-fa4c-f80f8c8761b3"
      },
      "execution_count": null,
      "outputs": [
        {
          "output_type": "display_data",
          "data": {
            "image/png": "[encoded data removed]",
            "text/plain": [
              "<Figure size 432x432 with 1 Axes>"
            ]
          },
          "metadata": {
            "needs_background": "light"
          }
        }
      ]
    },
    {
      "cell_type": "code",
      "source": [
        ""
      ],
      "metadata": {
        "id": "OwJGR3CjWX6o"
      },
      "execution_count": null,
      "outputs": []
    }
  ]
}