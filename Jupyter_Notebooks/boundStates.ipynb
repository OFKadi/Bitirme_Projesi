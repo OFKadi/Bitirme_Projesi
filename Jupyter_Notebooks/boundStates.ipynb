{
  "nbformat": 4,
  "nbformat_minor": 0,
  "metadata": {
    "colab": {
      "name": "boundStates.ipynb",
      "provenance": [],
      "authorship_tag": "ABX9TyPZUvTYUq05ba4r9mpiudXY",
      "include_colab_link": true
    },
    "kernelspec": {
      "name": "python3",
      "display_name": "Python 3"
    },
    "language_info": {
      "name": "python"
    }
  },
  "cells": [
    {
      "cell_type": "markdown",
      "metadata": {
        "id": "view-in-github",
        "colab_type": "text"
      },
      "source": [
        "<a href=\"https://colab.research.google.com/github/OFKadi/Bitirme_Projesi/blob/main/Jupyter_Notebooks/boundStates.ipynb\" target=\"_parent\"><img src=\"https://colab.research.google.com/assets/colab-badge.svg\" alt=\"Open In Colab\"/></a>"
      ]
    },
    {
      "cell_type": "code",
      "metadata": {
        "id": "mcwRHplS9rKo"
      },
      "source": [
        "from scipy import optimize\n",
        "import numpy as np\n",
        "import matplotlib.pyplot as plt"
      ],
      "execution_count": 19,
      "outputs": []
    },
    {
      "cell_type": "code",
      "metadata": {
        "colab": {
          "base_uri": "https://localhost:8080/"
        },
        "id": "XtWHK28YN9iC",
        "outputId": "75b492db-4f4f-485c-a7bf-c5e49bf37dea"
      },
      "source": [
        "q = np.pi\n",
        "dq = 0.1*np.pi\n",
        "for k in range(50):\n",
        "  print(\"q=%.3f\"%q, end=\"=>\")\n",
        "  xf = 0.01\n",
        "  f2 = lambda x : np.tan(np.sqrt(q**2-x**2))/np.sqrt(q**2-x**2) + 1/x\n",
        "  n = list(range(0, int(q/(np.pi/2)), 2))\n",
        "  n.reverse()\n",
        "  for i in n:\n",
        "    xi = xf\n",
        "    in_tan = lambda x : np.sqrt(q**2-x**2) - (i+1)*np.pi/2\n",
        "    try:\n",
        "      sol2 = optimize.root_scalar(in_tan, bracket=[0.1, q], method='brentq')\n",
        "    except:\n",
        "      print(\"Err\", end=',')\n",
        "      continue\n",
        "    xf = sol2.root\n",
        "    try:\n",
        "      sol = optimize.root_scalar(f2, bracket=[0.01*xi, 0.99*xf], method='brentq')\n",
        "    except:\n",
        "      print(\"Err\", end=',')\n",
        "      continue\n",
        "    print(\"%.4f\"%sol.root, end=',')\n",
        "  q = q + dq\n",
        "  print()"
      ],
      "execution_count": 256,
      "outputs": [
        {
          "output_type": "stream",
          "name": "stdout",
          "text": [
            "q=3.142=>2.1251,\n",
            "q=3.456=>2.5043,\n",
            "q=3.770=>2.8753,\n",
            "q=4.084=>3.2396,\n",
            "q=4.398=>3.5984,\n",
            "q=4.712=>Err,3.9526,\n",
            "q=5.027=>1.0327,4.3029,\n",
            "q=5.341=>1.7493,4.6498,\n",
            "q=5.655=>2.3538,4.9938,\n",
            "q=5.969=>2.8966,5.3353,\n",
            "q=6.283=>3.3995,5.6745,\n",
            "q=6.597=>3.8742,6.0118,\n",
            "q=6.912=>4.3276,6.3474,\n",
            "q=7.226=>4.7644,6.6815,\n",
            "q=7.540=>5.1879,7.0142,\n",
            "q=7.854=>Err,5.6005,5.6005,\n",
            "q=8.168=>1.4695,6.0040,7.6759,\n",
            "q=8.482=>2.3876,6.3996,8.0052,\n",
            "q=8.796=>3.1359,3.1359,8.3336,\n",
            "q=9.111=>3.7932,7.1718,8.6612,\n",
            "q=9.425=>4.3922,7.5499,8.9880,\n",
            "q=9.739=>4.9500,7.9234,9.3141,\n",
            "q=10.053=>5.4770,8.2930,9.6395,\n",
            "q=10.367=>5.9799,8.6591,9.9644,\n",
            "q=10.681=>6.4635,9.0219,10.2887,\n",
            "q=10.996=>Err,6.9311,6.9311,9.3818,\n",
            "q=11.310=>1.8402,7.3853,9.7391,10.9359,\n",
            "q=11.624=>2.9247,7.8280,10.0939,11.2588,\n",
            "q=11.938=>3.7943,3.7943,10.4466,11.5813,\n",
            "q=12.252=>4.5500,8.6853,10.7973,11.9035,\n",
            "q=12.566=>5.2327,9.1021,11.1462,12.2253,\n",
            "q=12.881=>5.8641,9.5122,11.4933,12.5467,\n",
            "q=13.195=>6.4568,9.9163,11.8389,12.8679,\n",
            "q=13.509=>7.0194,10.3151,12.1830,13.1887,\n",
            "q=13.823=>7.5576,10.7090,12.5257,13.5093,\n",
            "q=14.137=>Err,8.0757,8.0757,11.0986,13.8296,\n",
            "q=14.451=>2.1681,8.5768,11.4841,13.2076,14.1497,\n",
            "q=14.765=>3.3973,9.0635,11.8660,13.5468,14.4696,\n",
            "q=15.080=>4.3737,4.3737,12.2445,13.8850,14.7893,\n",
            "q=15.394=>5.2168,10.0008,12.6200,14.2222,15.1087,\n",
            "q=15.708=>5.9746,10.4543,12.9926,14.5585,15.4280,\n",
            "q=16.022=>6.6723,10.8993,13.3625,14.8940,15.7471,\n",
            "q=16.336=>7.3248,11.3365,13.7300,15.2287,16.0660,\n",
            "q=16.650=>7.9418,11.7669,14.0953,15.5626,16.3847,\n",
            "q=16.965=>8.5302,12.1910,14.4584,15.8958,16.7033,\n",
            "q=17.279=>Err,9.0948,9.0948,12.6093,12.6093,17.0218,\n",
            "q=17.593=>2.4652,9.6395,13.0225,15.1788,16.5602,17.3401,\n",
            "q=17.907=>3.8242,10.1670,13.4310,15.5363,16.8915,17.6583,\n",
            "q=18.221=>4.8970,4.8970,13.8350,15.8922,17.2222,Err,\n",
            "q=18.535=>5.8195,11.1793,14.2350,16.2465,17.5524,Err,\n"
          ]
        }
      ]
    },
    {
      "cell_type": "code",
      "metadata": {
        "id": "u5srFSY2K0vr"
      },
      "source": [
        ""
      ],
      "execution_count": null,
      "outputs": []
    }
  ]
}