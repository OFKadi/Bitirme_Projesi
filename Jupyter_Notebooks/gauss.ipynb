{
  "nbformat": 4,
  "nbformat_minor": 0,
  "metadata": {
    "colab": {
      "name": "Untitled3.ipynb",
      "provenance": [],
      "collapsed_sections": [],
      "authorship_tag": "ABX9TyMyEYutEfn+zaezSQjWfAAH",
      "include_colab_link": true
    },
    "kernelspec": {
      "name": "python3",
      "display_name": "Python 3"
    },
    "language_info": {
      "name": "python"
    }
  },
  "cells": [
    {
      "cell_type": "markdown",
      "metadata": {
        "id": "view-in-github",
        "colab_type": "text"
      },
      "source": [
        "<a href=\"https://colab.research.google.com/github/OFKadi/Bitirme_Projesi/blob/main/Jupyter_Notebooks/gauss.ipynb\" target=\"_parent\"><img src=\"https://colab.research.google.com/assets/colab-badge.svg\" alt=\"Open In Colab\"/></a>"
      ]
    },
    {
      "cell_type": "code",
      "metadata": {
        "id": "4xWJNJq__bCD"
      },
      "source": [
        "from scipy.integrate import solve_ivp\n",
        "from scipy.optimize import curve_fit, root_scalar\n",
        "from torch.autograd import Variable\n",
        "import matplotlib.pyplot as plt\n",
        "import numpy as np\n",
        "import math"
      ],
      "execution_count": 1,
      "outputs": []
    },
    {
      "cell_type": "code",
      "metadata": {
        "id": "nefkBHXO_1ya"
      },
      "source": [
        "def vpa_func(r, δ, k, q, pot_func):\n",
        "  return pot_func(q, r)*(-np.sin(k*r+δ)**2)/k\n",
        "\n",
        "def fit_func(k, a0, r0):\n",
        "  return a0 + r0*k**2\n",
        "\n",
        "def kcotδ_func(k, δ):\n",
        "  return k / np.tan(δ)\n",
        "\n",
        "def kcotδ_func(k, δ):\n",
        "  return k / np.tan(δ)\n",
        "\n",
        "def cal_as_and_r0(k_arry, phase):\n",
        "  y_data = kcotδ_func(k_arry, phase)\n",
        "  popt, pcov = curve_fit(fit_func, k_arry, y_data)\n",
        "\n",
        "  a_s = -1/popt[0]\n",
        "  r_0 = 2*popt[1]\n",
        "\n",
        "  return (a_s, r_0)  \n",
        "\n",
        "def gaussian_func(a, r):\n",
        "  return -a[0]*np.exp(-r**2/(2*a[1]**2))\n",
        "  #return -a[0]\n",
        "\n",
        "def find_as(a, w):\n",
        "  k_arry = np.linspace(0.001, 0.1*np.pi, 30)\n",
        "  eval_point = 5*w\n",
        "\n",
        "  phase = []\n",
        "  for k in k_arry:\n",
        "    sol = solve_ivp(vpa_func, [0, eval_point], [0], max_step=0.5, method='DOP853', t_eval=[eval_point], args=(k, [a, w], gaussian_func))\n",
        "    # sol = solve_ivp(vpa_func, [0, eval_point], [0], method='DOP853', t_eval=[eval_point], args=(k, [a, w], gaussian_func))\n",
        "    phase.append(sol.y[0][0])\n",
        "\n",
        "  phase = np.array(phase)\n",
        "  a_s, r_0 = cal_as_and_r0(k_arry, phase)\n",
        "  return a_s\n",
        "\n",
        "def root_func(a, w, a_s):\n",
        "  return a_s - find_as(a , w)"
      ],
      "execution_count": 6,
      "outputs": []
    },
    {
      "cell_type": "code",
      "metadata": {
        "id": "sSJ1m_uFMp4P"
      },
      "source": [
        "w = 10"
      ],
      "execution_count": 4,
      "outputs": []
    },
    {
      "cell_type": "code",
      "metadata": {
        "colab": {
          "base_uri": "https://localhost:8080/",
          "height": 282
        },
        "id": "X_mcWk-oL8Oc",
        "outputId": "801d6884-7009-4aca-fb3f-f6d212330086"
      },
      "source": [
        "x = np.linspace(0.10135353535353536, 0.10757575757575757, 100)\n",
        "y = []\n",
        "for i in x:\n",
        "  y.append(find_as(i , w))\n",
        "  # print(i)\n",
        "plt.plot(x, y)"
      ],
      "execution_count": 13,
      "outputs": [
        {
          "output_type": "execute_result",
          "data": {
            "text/plain": [
              "[<matplotlib.lines.Line2D at 0x7fa4bc03c890>]"
            ]
          },
          "metadata": {},
          "execution_count": 13
        },
        {
          "output_type": "display_data",
          "data": {
            "image/png": "[encoded data removed]",
            "text/plain": [
              "<Figure size 432x288 with 1 Axes>"
            ]
          },
          "metadata": {
            "needs_background": "light"
          }
        }
      ]
    },
    {
      "cell_type": "code",
      "metadata": {
        "colab": {
          "base_uri": "https://localhost:8080/"
        },
        "id": "UpCFy-tCs0MR",
        "outputId": "b79569de-e37e-46ab-fc38-862795788bb1"
      },
      "source": [
        "x[-7]"
      ],
      "execution_count": 12,
      "outputs": [
        {
          "output_type": "execute_result",
          "data": {
            "text/plain": [
              "0.10757575757575757"
            ]
          },
          "metadata": {},
          "execution_count": 12
        }
      ]
    },
    {
      "cell_type": "code",
      "metadata": {
        "colab": {
          "base_uri": "https://localhost:8080/"
        },
        "id": "_a9s6e45suhO",
        "outputId": "31b780e7-c150-4d2b-f166-edbe40070dfd"
      },
      "source": [
        "y"
      ],
      "execution_count": 8,
      "outputs": [
        {
          "output_type": "execute_result",
          "data": {
            "text/plain": [
              "[-32.34936290289556,\n",
              " -41.80086228876274,\n",
              " -57.792537801909084,\n",
              " -92.071120601078,\n",
              " -220.28227760836145,\n",
              " 609.1913069685869,\n",
              " 129.80240635325035,\n",
              " 73.16079775489155,\n",
              " 51.14313586485708,\n",
              " 39.407905865983714,\n",
              " 32.09891629029534,\n",
              " 27.097516289131505,\n",
              " 23.45124569307097,\n",
              " 20.641274810127815,\n",
              " 18.468457977317705,\n",
              " 16.68199382293495,\n",
              " 15.198494174040704,\n",
              " 13.943681334479585,\n",
              " 12.865945678105138,\n",
              " 11.927628847301685,\n",
              " 11.100103664566026,\n",
              " 10.366507490846837,\n",
              " 9.706825990853194,\n",
              " 9.109849378511509,\n",
              " 8.56574483868235,\n",
              " 8.066481787258935,\n",
              " 7.6056401278724906,\n",
              " 7.17787589355535,\n",
              " 6.78500802781352,\n",
              " 6.404566423594035,\n",
              " 6.052153438451092,\n",
              " 5.718881883184,\n",
              " 5.402470691131356,\n",
              " 5.100890440569776,\n",
              " 4.811822699117888,\n",
              " 4.535689852842095,\n",
              " 4.269191684134533,\n",
              " 4.011826418248021,\n",
              " 3.7625101682803392,\n",
              " 3.5203347387293675,\n",
              " 3.284286272428498,\n",
              " 3.053784615297995,\n",
              " 2.828056769775167,\n",
              " 2.6063463090157986,\n",
              " 2.3880673401142283,\n",
              " 2.1726368663152025,\n",
              " 1.9594901996054443,\n",
              " 1.7480925906614273,\n",
              " 1.537920044473612,\n",
              " 1.3284333580655718,\n",
              " 1.1193343580112083,\n",
              " 0.9097212163670519,\n",
              " 0.6994224208364646,\n",
              " 0.48782879628260417,\n",
              " 0.274415763012313,\n",
              " 0.05864044676769005,\n",
              " -0.1600668959558036,\n",
              " -0.38230464301272926,\n",
              " -0.6087114672074673,\n",
              " -0.8399726875351126,\n",
              " -1.076829334427264,\n",
              " -1.3200892658647625,\n",
              " -1.570640096634286,\n",
              " -1.8294624200445917,\n",
              " -2.09752312248326,\n",
              " -2.3765358277946174,\n",
              " -2.6671729787092926,\n",
              " -2.9714603263982604,\n",
              " -3.2910899736204864,\n",
              " -3.6281252529372705,\n",
              " -3.9849642872555195,\n",
              " -4.364415200979733,\n",
              " -4.769781344659163,\n",
              " -5.204982661775479,\n",
              " -5.674686560007706,\n",
              " -6.184166842684404,\n",
              " -6.741696303095522,\n",
              " -7.354541807314212,\n",
              " -8.032665703083154,\n",
              " -8.792412172062955,\n",
              " -9.648599942768097,\n",
              " -10.625092747088301,\n",
              " -11.752111013601276,\n",
              " -13.071333484293994,\n",
              " -14.64122756610493,\n",
              " -16.546474305334485,\n",
              " -18.914749407191824,\n",
              " -21.99538912289801,\n",
              " -25.98153294601244,\n",
              " -31.634919516873627,\n",
              " -41.37983559267242,\n",
              " -54.97060136881533,\n",
              " -83.84540411680301,\n",
              " -178.41960087246093,\n",
              " 1585.0131967909708,\n",
              " 147.07883166068555,\n",
              " 77.41566882580392,\n",
              " 52.621500470662596,\n",
              " 39.88252517650079,\n",
              " 32.06500296942863]"
            ]
          },
          "metadata": {},
          "execution_count": 8
        }
      ]
    },
    {
      "cell_type": "code",
      "metadata": {
        "id": "ON3KtoimuxIp"
      },
      "source": [
        "a_s = 0.8072835598853655\n",
        "f = lambda a_ : a_s - find_as(a_ , w)\n",
        "sol = root_scalar(f, bracket=[0.10135353535353536, 0.10757575757575757], method='brentq')"
      ],
      "execution_count": 17,
      "outputs": []
    },
    {
      "cell_type": "code",
      "metadata": {
        "colab": {
          "base_uri": "https://localhost:8080/"
        },
        "id": "n-wOKx6bv5ZG",
        "outputId": "b6d918a5-8fac-4a79-c615-bb48421e6ca0"
      },
      "source": [
        "sol.root"
      ],
      "execution_count": 18,
      "outputs": [
        {
          "output_type": "execute_result",
          "data": {
            "text/plain": [
              "0.10464054597139953"
            ]
          },
          "metadata": {},
          "execution_count": 18
        }
      ]
    },
    {
      "cell_type": "code",
      "metadata": {
        "colab": {
          "base_uri": "https://localhost:8080/"
        },
        "id": "1TvQX7mDv8FU",
        "outputId": "8e5055c5-3b29-46d0-f5c0-527c7d2fa7a5"
      },
      "source": [
        "f(sol.root)"
      ],
      "execution_count": 19,
      "outputs": [
        {
          "output_type": "execute_result",
          "data": {
            "text/plain": [
              "1.4174209250761294e-08"
            ]
          },
          "metadata": {},
          "execution_count": 19
        }
      ]
    },
    {
      "cell_type": "code",
      "metadata": {
        "id": "zVKZbq1yfVAI"
      },
      "source": [
        "w = 10\n",
        "a = 0.1\n",
        "da = 0.1/w**2\n",
        "a_s = 0.8072835598853655\n",
        "f = lambda a_ : a_s - find_as(a_ , w)\n",
        "s = sign(f(a))\n",
        "while True:\n",
        "  a = a + da\n",
        "  if s * sign(f(a)) < -0.5:\n",
        "    print(f(a))\n",
        "    print(f(a-da))\n",
        "    sol = root_scalar(f, bracket=[a-da, a], method='brentq')\n",
        "    print(sol.root)\n",
        "    break"
      ],
      "execution_count": null,
      "outputs": []
    },
    {
      "cell_type": "code",
      "metadata": {
        "id": "VlVNc116Czik"
      },
      "source": [
        "c = 0.3\n",
        "w = 10\n",
        "while True:\n",
        "  del_a = np.linspace(0.0001, c*np.pi, 100)\n",
        "  counter = 0\n",
        "  frst = 0\n",
        "  for j, i in enumerate(del_a):\n",
        "    scnd = find_as(i , w)\n",
        "    if np.sign(frst)*np.sign(scnd) == -1.0 and abs(frst-scnd) > 30:\n",
        "      counter = counter + 1\n",
        "      print(frst, scnd, i, del_a[j-1])\n",
        "      if counter > 4:\n",
        "        #print(\"next\")\n",
        "        break\n",
        "    frst = scnd\n",
        "  if counter < 4:\n",
        "    c = c + c*0.15\n",
        "    print(\"up\", c)\n",
        "  elif counter == 4:\n",
        "    print(c)\n",
        "    break\n",
        "  else:\n",
        "    c = c - c*0.3\n",
        "    print(\"down\", c)\n",
        "   \n"
      ],
      "execution_count": null,
      "outputs": []
    },
    {
      "cell_type": "code",
      "metadata": {
        "id": "SQiJofQaZvfi"
      },
      "source": [
        "f = lambda a_ : a_s - find_as(a_ , w)\n",
        "sol = root_scalar(f, bracket=[0.10135353535353536, 0.10757575757575757], method='brentq')\n",
        "print(sol.root)"
      ],
      "execution_count": null,
      "outputs": []
    },
    {
      "cell_type": "code",
      "metadata": {
        "colab": {
          "base_uri": "https://localhost:8080/",
          "height": 352
        },
        "id": "ssbwD97516BV",
        "outputId": "a141c7e0-f089-4bd1-f958-f51d11af61ee"
      },
      "source": [
        "w = 10\n",
        "da = 0.1/np.exp(2*w**2)\n",
        "a_ = da\n",
        "a_s = 0.8072835598853655\n",
        "g_point = 0\n",
        "points = [0, 0]\n",
        "frst = find_as(a_*np.pi , w)\n",
        "x = [a_]\n",
        "y = [frst]\n",
        "while True:\n",
        "  a_ = a_ + da\n",
        "  scnd = find_as(a_*np.pi , w)\n",
        "  x.append(a_)\n",
        "  y.append(scnd)\n",
        "  if np.sign(frst)*np.sign(scnd) == -1.0 and abs(frst-scnd) > 100 :\n",
        "    if g_point == 0:\n",
        "      points[g_point] = a_\n",
        "      g_point = g_point + 1\n",
        "    else:\n",
        "      points[g_point] = a_ - da\n",
        "      g_point = g_point + 1\n",
        "    print(frst, scnd)\n",
        "    print(a_)\n",
        "    if g_point == 2:\n",
        "      break\n",
        "  frst = scnd\n",
        "\n",
        "plt.plot(x, y)"
      ],
      "execution_count": 213,
      "outputs": [
        {
          "output_type": "stream",
          "name": "stdout",
          "text": [
            "-1847.0167014282918 1727.879152785396\n",
            "0.0039999999999999975\n",
            "-271.0617784617046 19.726260813168523\n",
            "0.024899999999999905\n"
          ]
        },
        {
          "output_type": "execute_result",
          "data": {
            "text/plain": [
              "[<matplotlib.lines.Line2D at 0x7f031d64b110>]"
            ]
          },
          "metadata": {},
          "execution_count": 213
        },
        {
          "output_type": "display_data",
          "data": {
            "image/png": "[encoded data removed]",
            "text/plain": [
              "<Figure size 432x288 with 1 Axes>"
            ]
          },
          "metadata": {
            "needs_background": "light"
          }
        }
      ]
    },
    {
      "cell_type": "code",
      "metadata": {
        "id": "JfXgteklZAUV"
      },
      "source": [
        ""
      ],
      "execution_count": null,
      "outputs": []
    }
  ]
}