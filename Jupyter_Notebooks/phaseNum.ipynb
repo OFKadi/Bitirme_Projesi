{
  "nbformat": 4,
  "nbformat_minor": 0,
  "metadata": {
    "colab": {
      "name": "phaseNum.ipynb",
      "provenance": []
    },
    "kernelspec": {
      "name": "python3",
      "display_name": "Python 3"
    },
    "language_info": {
      "name": "python"
    }
  },
  "cells": [
    {
      "cell_type": "code",
      "metadata": {
        "id": "mTPz3I3PFkBl"
      },
      "source": [
        "import numpy as np\n",
        "from numpy import sin\n",
        "from numpy import power\n",
        "from scipy.integrate import odeint\n",
        "from scipy.integrate import solve_ivp"
      ],
      "execution_count": 3,
      "outputs": []
    },
    {
      "cell_type": "code",
      "metadata": {
        "colab": {
          "base_uri": "https://localhost:8080/"
        },
        "id": "-xysuczYG4ba",
        "outputId": "6adab9ad-d66e-43cd-82bd-259c5e01f23d"
      },
      "source": [
        "def kPrimeFunc(E, m1, m2):\n",
        "  return np.sqrt(2*reducedMass(m1,m2)*E)\n",
        "\n",
        "def reducedMass(m1, m2):\n",
        "  return (m1*m2)/(m1+m2)\n",
        "\n",
        "def model(s, r):\n",
        "  k = kPrimeFunc(20, 1, 1)\n",
        "  u = reducedMass(1 , 1)\n",
        "  v = 50\n",
        "  return -(2*u*v*power(sin(k*r+s),2))/r\n",
        "\n",
        "s0 = 0\n",
        "r = np.linspace(0, 1, 100)\n",
        "sol = solve_ivp(model, [0, 1], [s0] , method='LSODA', t_eval=r)\n",
        "print(sol.y)\n",
        "#odeint(model, s0, r)"
      ],
      "execution_count": 5,
      "outputs": [
        {
          "output_type": "stream",
          "name": "stdout",
          "text": [
            "[[nan nan nan nan nan nan nan nan nan nan nan nan nan nan nan nan nan nan\n",
            "  nan nan nan nan nan nan nan nan nan nan nan nan nan nan nan nan nan nan\n",
            "  nan nan nan nan nan nan nan nan nan nan nan nan nan nan nan nan nan nan\n",
            "  nan nan nan nan nan nan nan nan nan nan nan nan nan nan nan nan nan nan\n",
            "  nan nan nan nan nan nan nan nan nan nan nan nan nan nan nan nan nan nan\n",
            "  nan nan nan nan nan nan nan nan nan nan]]\n"
          ]
        },
        {
          "output_type": "stream",
          "name": "stderr",
          "text": [
            "/usr/local/lib/python3.7/dist-packages/ipykernel_launcher.py:11: RuntimeWarning: invalid value encountered in true_divide\n",
            "  # This is added back by InteractiveShellApp.init_path()\n"
          ]
        }
      ]
    },
    {
      "cell_type": "code",
      "metadata": {
        "id": "hxYGTMSXo9mY"
      },
      "source": [
        ""
      ],
      "execution_count": null,
      "outputs": []
    }
  ]
}